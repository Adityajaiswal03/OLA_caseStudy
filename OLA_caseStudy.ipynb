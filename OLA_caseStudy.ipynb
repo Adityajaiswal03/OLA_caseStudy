{
  "nbformat": 4,
  "nbformat_minor": 0,
  "metadata": {
    "colab": {
      "provenance": [],
      "authorship_tag": "ABX9TyOFAa2FauQG5sJXv0V1JCIu",
      "include_colab_link": true
    },
    "kernelspec": {
      "name": "python3",
      "display_name": "Python 3"
    },
    "language_info": {
      "name": "python"
    }
  },
  "cells": [
    {
      "cell_type": "markdown",
      "metadata": {
        "id": "view-in-github",
        "colab_type": "text"
      },
      "source": [
        "<a href=\"https://colab.research.google.com/github/Adityajaiswal03/OLA_caseStudy/blob/main/OLA_caseStudy.ipynb\" target=\"_parent\"><img src=\"https://colab.research.google.com/assets/colab-badge.svg\" alt=\"Open In Colab\"/></a>"
      ]
    },
    {
      "cell_type": "code",
      "execution_count": 1,
      "metadata": {
        "id": "QfBYeJlv7Fyx"
      },
      "outputs": [],
      "source": [
        "import pandas as pd\n",
        "import numpy as np\n",
        "import seaborn as sns\n",
        "from scipy import stats\n",
        "import matplotlib.pyplot as plt"
      ]
    },
    {
      "cell_type": "code",
      "source": [
        "!gdown 16g-OJ_4GnG0P8FEFgTa50RMubVSBvIZl"
      ],
      "metadata": {
        "id": "d8plNIIICBo-"
      },
      "execution_count": null,
      "outputs": []
    },
    {
      "cell_type": "code",
      "source": [
        "df=pd.read_csv('/content/ola_driver_scaler.csv')"
      ],
      "metadata": {
        "id": "ghbrOkC69Gc6"
      },
      "execution_count": null,
      "outputs": []
    },
    {
      "cell_type": "code",
      "source": [
        "df.head()"
      ],
      "metadata": {
        "id": "tdUDncej9KbE"
      },
      "execution_count": null,
      "outputs": []
    },
    {
      "cell_type": "code",
      "source": [
        "df.info()"
      ],
      "metadata": {
        "id": "3t0HRyM_CW6K"
      },
      "execution_count": null,
      "outputs": []
    },
    {
      "cell_type": "code",
      "source": [
        "df.columns"
      ],
      "metadata": {
        "id": "BRDCoR5OCY6L"
      },
      "execution_count": null,
      "outputs": []
    },
    {
      "cell_type": "markdown",
      "source": [
        "## Data Engineering"
      ],
      "metadata": {
        "id": "-AK4SeMXCuY2"
      }
    },
    {
      "cell_type": "code",
      "source": [
        "df.drop('Unnamed: 0',axis=1,inplace=True)"
      ],
      "metadata": {
        "id": "_bxhkeY_Ck9C"
      },
      "execution_count": null,
      "outputs": []
    },
    {
      "cell_type": "code",
      "source": [
        "df=df.rename(columns={'MMM-YY': 'Reporting_Date'})"
      ],
      "metadata": {
        "id": "LpwbtyRUC6vn"
      },
      "execution_count": null,
      "outputs": []
    },
    {
      "cell_type": "code",
      "source": [
        "df['Reporting_Date'] = pd.to_datetime(df['Reporting_Date'], format='%m/%d/%y',errors='coerce')\n",
        "df['Dateofjoining'] = pd.to_datetime(df['Dateofjoining'], format='%d/%m/%y',errors='coerce')\n",
        "df['LastWorkingDate'] = pd.to_datetime(df['LastWorkingDate'], format='%d/%m/%y',errors='coerce')"
      ],
      "metadata": {
        "id": "l9eY7S3jDiK2"
      },
      "execution_count": null,
      "outputs": []
    },
    {
      "cell_type": "code",
      "source": [
        "df['Driver_ID'].nunique()"
      ],
      "metadata": {
        "id": "StUWVTZOHGIl"
      },
      "execution_count": null,
      "outputs": []
    },
    {
      "cell_type": "markdown",
      "source": [
        "setting the target variable"
      ],
      "metadata": {
        "id": "n89h2PvTGLYN"
      }
    },
    {
      "cell_type": "code",
      "source": [
        "target = df.groupby('Driver_ID')['LastWorkingDate'].last().isna().reset_index()\n",
        "target['LastWorkingDate'] = target['LastWorkingDate'].map({True: 0, False: 1})\n",
        "target.rename(columns={'LastWorkingDate': 'Target'}, inplace=True)\n",
        "target.head()\n"
      ],
      "metadata": {
        "id": "3_QA2bWnGuhh"
      },
      "execution_count": null,
      "outputs": []
    },
    {
      "cell_type": "code",
      "source": [
        "QR1 =  (df.groupby('Driver_ID').agg({'Quarterly Rating':'first'})['Quarterly Rating']).reset_index()\n",
        "QR2 = (df.groupby('Driver_ID').agg({'Quarterly Rating':'last'})['Quarterly Rating']).reset_index()"
      ],
      "metadata": {
        "id": "kFNIeH1LIlUP"
      },
      "execution_count": null,
      "outputs": []
    },
    {
      "cell_type": "code",
      "source": [
        "QR1.shape,QR2.shape"
      ],
      "metadata": {
        "id": "3OQF5828IqXr"
      },
      "execution_count": null,
      "outputs": []
    },
    {
      "cell_type": "code",
      "source": [
        "QR1.isna().sum(),QR2.isna().sum()"
      ],
      "metadata": {
        "id": "X31MK_vJIyBn"
      },
      "execution_count": null,
      "outputs": []
    },
    {
      "cell_type": "code",
      "source": [
        "target = target.merge(QR1,on='Driver_ID')\n",
        "target = target.merge(QR2,on='Driver_ID')"
      ],
      "metadata": {
        "id": "r00FhrckI5Lc"
      },
      "execution_count": null,
      "outputs": []
    },
    {
      "cell_type": "code",
      "source": [
        "target['Rating_incr']=np.where(target['Quarterly Rating_x'] < target['Quarterly Rating_y'], 1,0)"
      ],
      "metadata": {
        "id": "gUkMakWoI7jr"
      },
      "execution_count": null,
      "outputs": []
    },
    {
      "cell_type": "code",
      "source": [
        "target.head()"
      ],
      "metadata": {
        "id": "0S-HYP4nI-Fz"
      },
      "execution_count": null,
      "outputs": []
    },
    {
      "cell_type": "code",
      "source": [
        "incm1 =  (df.groupby('Driver_ID').agg({'Income':'first'})['Income']).reset_index()\n",
        "incm2 = (df.groupby('Driver_ID').agg({'Income':'last'})['Income']).reset_index()"
      ],
      "metadata": {
        "id": "zGMVyJcqJHDI"
      },
      "execution_count": null,
      "outputs": []
    },
    {
      "cell_type": "code",
      "source": [
        "incm1.shape,incm2.shape"
      ],
      "metadata": {
        "id": "1MaiUf_dJJvd"
      },
      "execution_count": null,
      "outputs": []
    },
    {
      "cell_type": "code",
      "source": [
        "incm1.isna().sum(),incm2.isna().sum()"
      ],
      "metadata": {
        "id": "aXbhSVUeJMDY"
      },
      "execution_count": null,
      "outputs": []
    },
    {
      "cell_type": "code",
      "source": [
        "target = target.merge(incm1,on='Driver_ID')\n",
        "target = target.merge(incm2,on='Driver_ID')"
      ],
      "metadata": {
        "id": "pB5IMKddJOZW"
      },
      "execution_count": null,
      "outputs": []
    },
    {
      "cell_type": "code",
      "source": [
        "target['Income_incr'] = np.where(target['Income_x'] < target['Income_y'], 1,0)"
      ],
      "metadata": {
        "id": "trnytm8CJQVi"
      },
      "execution_count": null,
      "outputs": []
    },
    {
      "cell_type": "code",
      "source": [
        "target2=target[['Driver_ID','Target','Rating_incr','Income_incr']]"
      ],
      "metadata": {
        "id": "R-q_R4VkJS16"
      },
      "execution_count": null,
      "outputs": []
    },
    {
      "cell_type": "code",
      "source": [
        "target2.head()"
      ],
      "metadata": {
        "id": "9mVN73dZJUo9"
      },
      "execution_count": null,
      "outputs": []
    },
    {
      "cell_type": "markdown",
      "source": [
        "Aggerigating based on driver ID"
      ],
      "metadata": {
        "id": "PchwvQoHKY2q"
      }
    },
    {
      "cell_type": "code",
      "source": [
        "df2=df.copy()"
      ],
      "metadata": {
        "id": "I0aE9cCIJuSS"
      },
      "execution_count": null,
      "outputs": []
    },
    {
      "cell_type": "code",
      "source": [
        "functions = {'Reporting_Date':'count',\n",
        "             'Driver_ID':'first',\n",
        "             'Age':'max',\n",
        "             'Gender':'last',\n",
        "            'City':'last',\n",
        "             'Education_Level':'last',\n",
        "             'Dateofjoining':'first',\n",
        "            'LastWorkingDate':'last',\n",
        "             'Grade':'last',\n",
        "             'Total Business Value':'sum',\n",
        "            'Income':'last',\n",
        "             'Joining Designation':'last',\n",
        "             'Quarterly Rating':'last'}\n",
        "df2 = df2.groupby([df2['Driver_ID']]).aggregate(functions)\n",
        "df2.rename(columns={'Reporting_Date':'Reportings'},inplace=True)"
      ],
      "metadata": {
        "id": "ZoIeSXWyJzgy"
      },
      "execution_count": null,
      "outputs": []
    },
    {
      "cell_type": "code",
      "source": [
        "df2.reset_index(drop=True, inplace=True)\n",
        "df2 = df2.merge(target2,on='Driver_ID')"
      ],
      "metadata": {
        "id": "41Cruc1hJ1rD"
      },
      "execution_count": null,
      "outputs": []
    },
    {
      "cell_type": "code",
      "source": [
        "df2.columns = df2.columns.str.strip()"
      ],
      "metadata": {
        "id": "5e8C9A8cJ5i2"
      },
      "execution_count": null,
      "outputs": []
    },
    {
      "cell_type": "markdown",
      "source": [
        "checking for the null values"
      ],
      "metadata": {
        "id": "lw1LGVMQKN-6"
      }
    },
    {
      "cell_type": "code",
      "source": [
        "df2.isna().sum()"
      ],
      "metadata": {
        "id": "ErZgQMeWKEoG"
      },
      "execution_count": null,
      "outputs": []
    },
    {
      "cell_type": "markdown",
      "source": [
        "we are getting null values in Last working day as the driver hasn't left the company yet"
      ],
      "metadata": {
        "id": "O6D3iGs6KNFh"
      }
    },
    {
      "cell_type": "markdown",
      "source": [
        "Outliers"
      ],
      "metadata": {
        "id": "d0Fnk6dxKh8p"
      }
    },
    {
      "cell_type": "code",
      "source": [
        "num_cols=['Reportings','Age','Total Business Value','Income']"
      ],
      "metadata": {
        "id": "6htvW6SyKlRw"
      },
      "execution_count": null,
      "outputs": []
    },
    {
      "cell_type": "code",
      "source": [
        "fig = plt.figure(figsize=(10,5))\n",
        "i=1\n",
        "for col in num_cols:\n",
        "  ax = plt.subplot(2,2,i)\n",
        "  sns.boxplot(x=df2[col],color='yellowgreen')\n",
        "  plt.title(f'Boxplot of {col}')\n",
        "  i += 1\n",
        "\n",
        "plt.tight_layout()\n",
        "plt.show()"
      ],
      "metadata": {
        "id": "afBNlrvVKnFr"
      },
      "execution_count": null,
      "outputs": []
    },
    {
      "cell_type": "markdown",
      "source": [
        "Data is showing high outliers in Total Business value and Income"
      ],
      "metadata": {
        "id": "BMFZ9xa0KuD1"
      }
    },
    {
      "cell_type": "markdown",
      "source": [
        "## EDA"
      ],
      "metadata": {
        "id": "AbdswHdWK0mY"
      }
    },
    {
      "cell_type": "code",
      "source": [
        "data=df2.copy()\n"
      ],
      "metadata": {
        "id": "OnMWyLNaLFs-"
      },
      "execution_count": null,
      "outputs": []
    },
    {
      "cell_type": "code",
      "source": [
        "data.nunique()"
      ],
      "metadata": {
        "id": "78HGA7v_LFEi"
      },
      "execution_count": null,
      "outputs": []
    },
    {
      "cell_type": "code",
      "source": [
        "data.describe()"
      ],
      "metadata": {
        "id": "bp3FaOsNLpyf"
      },
      "execution_count": null,
      "outputs": []
    },
    {
      "cell_type": "code",
      "source": [
        "cat_cols=['Gender','Education_Level','Grade','Joining Designation','Quarterly Rating','Rating_incr','Income_incr','Target']"
      ],
      "metadata": {
        "id": "5gIBydJ7MRVV"
      },
      "execution_count": null,
      "outputs": []
    },
    {
      "cell_type": "code",
      "source": [
        "plt.figure(figsize=(10,15))\n",
        "i=1\n",
        "for col in cat_cols:\n",
        "  ax=plt.subplot(4,2,i)\n",
        "  sns.countplot(x=df2[col])\n",
        "  plt.title(f'{col}')\n",
        "  i += 1\n",
        "\n",
        "plt.tight_layout()\n",
        "plt.show()"
      ],
      "metadata": {
        "id": "VDJXI3NwMXTy"
      },
      "execution_count": null,
      "outputs": []
    },
    {
      "cell_type": "code",
      "source": [
        "plt.figure(figsize=(10,3))\n",
        "sns.countplot(x=df2['City'])\n",
        "plt.title('Distribution of City')"
      ],
      "metadata": {
        "id": "J3xHgudjMery"
      },
      "execution_count": null,
      "outputs": []
    },
    {
      "cell_type": "code",
      "source": [
        "plt.figure(figsize=(10,3))\n",
        "sns.countplot(x=df2['LastWorkingDate'].dt.month)\n",
        "plt.title('Distribution of Month of the Last Working Date')\n",
        "\n",
        "plt.figure(figsize=(10,3))\n",
        "sns.countplot(x=df2['LastWorkingDate'].dt.year)\n",
        "plt.title('Distribution of Year of the Last Working Date')\n",
        "\n",
        "plt.show()"
      ],
      "metadata": {
        "id": "VgrfZQB5Mirg"
      },
      "execution_count": null,
      "outputs": []
    },
    {
      "cell_type": "code",
      "source": [
        "plt.figure(figsize=(10,3))\n",
        "sns.countplot(x=df2['Dateofjoining'].dt.month)\n",
        "plt.title('Distribution of Month of the Joining Date')\n",
        "\n",
        "plt.figure(figsize=(10,3))\n",
        "sns.countplot(x=df2['Dateofjoining'].dt.year)\n",
        "plt.title('Distribution of Year of the Joining Date')\n",
        "\n",
        "plt.show()"
      ],
      "metadata": {
        "id": "KndT-I5MMm7c"
      },
      "execution_count": null,
      "outputs": []
    },
    {
      "cell_type": "code",
      "source": [
        "\n",
        "grade_wise_value = df2.groupby('Grade')['Total Business Value'].sum()\n",
        "\n",
        "# Create the plot\n",
        "plt.bar(grade_wise_value.index, grade_wise_value.values,color='yellowgreen')\n",
        "plt.xlabel('Grade')\n",
        "plt.ylabel('Total Business Value')\n",
        "plt.title('Grade-wise Performance (Total Business Value)')\n",
        "plt.show()\n"
      ],
      "metadata": {
        "id": "TLuicuUlMx93"
      },
      "execution_count": null,
      "outputs": []
    },
    {
      "cell_type": "markdown",
      "source": [
        "City with most improvement in Grade rating"
      ],
      "metadata": {
        "id": "APx6zx7mNBeG"
      }
    },
    {
      "cell_type": "code",
      "source": [
        "data1=df.copy()"
      ],
      "metadata": {
        "id": "6IWPD6CyM2ui"
      },
      "execution_count": null,
      "outputs": []
    },
    {
      "cell_type": "code",
      "source": [
        "## with respect to the year of the last reporting Date\n",
        "\n",
        "data1['Reporting_Date'] = pd.to_datetime(data1['Reporting_Date'])\n",
        "\n",
        "\n",
        "last_date = data1['Reporting_Date'].max()\n",
        "one_year_ago = last_date - pd.DateOffset(years=1)\n",
        "\n",
        "\n",
        "df_past_year = data1[data1['Reporting_Date'] >= one_year_ago]\n",
        "\n",
        "\n",
        "if df_past_year.empty:\n",
        "    raise ValueError(\"No data available for the past year. Please check the date range or the data.\")\n",
        "\n",
        "\n",
        "rating_change = df_past_year.groupby('City').agg(\n",
        "    start_rating=('Quarterly Rating', 'first'),\n",
        "    end_rating=('Quarterly Rating', 'last')\n",
        ").reset_index()\n",
        "\n",
        "\n",
        "rating_change['rating_improvement'] = rating_change['end_rating'] - rating_change['start_rating']"
      ],
      "metadata": {
        "id": "kYs9_c1uNAqr"
      },
      "execution_count": null,
      "outputs": []
    },
    {
      "cell_type": "code",
      "source": [
        "if rating_change.empty or rating_change['rating_improvement'].isnull().all():\n",
        "    raise ValueError(\"No improvements found. Please check the data.\")\n",
        "\n",
        "\n",
        "most_improved_city = rating_change.loc[rating_change['rating_improvement'].idxmax(), 'City']\n",
        "\n",
        "print(f'The city with the most improvement in Quarterly Rating over the past year is: {most_improved_city}')\n"
      ],
      "metadata": {
        "id": "SvH28ze-NW6x"
      },
      "execution_count": null,
      "outputs": []
    },
    {
      "cell_type": "code",
      "source": [
        "#Total business value x city\n",
        "\n",
        "city_tbv = data1.groupby('City')['Total Business Value'].sum().reset_index()\n",
        "\n",
        "\n",
        "plt.figure(figsize=(10, 6))\n",
        "sns.barplot(data=city_tbv, x='City', y='Total Business Value')\n",
        "\n",
        "# Add title and labels\n",
        "plt.title('Total Business Value by City')\n",
        "plt.xlabel('City')\n",
        "plt.ylabel('Total Business Value')\n",
        "plt.show()"
      ],
      "metadata": {
        "id": "eMzCMuQnNpl-"
      },
      "execution_count": null,
      "outputs": []
    },
    {
      "cell_type": "markdown",
      "source": [
        "Impact of Each column on churn"
      ],
      "metadata": {
        "id": "KpOr7gHUN3AN"
      }
    },
    {
      "cell_type": "code",
      "source": [
        "cat1_cols=['Gender','Education_Level','Grade','Joining Designation','Quarterly Rating','Rating_incr','Income_incr']"
      ],
      "metadata": {
        "id": "XHF2qlglN5wL"
      },
      "execution_count": null,
      "outputs": []
    },
    {
      "cell_type": "code",
      "source": [
        "\n",
        "plt.figure(figsize=(10,15))\n",
        "i=1\n",
        "for col in cat1_cols:\n",
        "    ax = plt.subplot(4, 2, i)\n",
        "\n",
        "    data = df2.pivot_table(index=col, columns='Target', aggfunc='size')\n",
        "\n",
        "    # Convert counts to percentages\n",
        "    data = data.div(data.sum(axis=1), axis=0).multiply(100).round()\n",
        "    data.reset_index(inplace=True)\n",
        "\n",
        "    # Plotting the bars\n",
        "    plt.bar(data[col], data[1], color='greenyellow',label='Churned')\n",
        "    plt.bar(data[col], data[0], color='dimgrey', bottom=data[1],label='Not Churned')\n",
        "\n",
        "    # Labeling and titles\n",
        "    plt.xlabel(f'{col}')\n",
        "    plt.ylabel('% Drivers')\n",
        "    plt.title(f'% Churn by {col}')\n",
        "    plt.legend(['Churned', 'Not Churned'])\n",
        "\n",
        "    i += 1\n",
        "\n",
        "# Adjust layout and display the plot\n",
        "plt.tight_layout()\n",
        "plt.show()"
      ],
      "metadata": {
        "id": "_aGqzw9NN8up"
      },
      "execution_count": null,
      "outputs": []
    },
    {
      "cell_type": "code",
      "source": [
        "\n",
        "plt.figure(figsize=(10,15))\n",
        "i=1\n",
        "for col in cat1_cols:\n",
        "    ax = plt.subplot(4, 2, i)\n",
        "\n",
        "    data = df2.pivot_table(index=col, columns='Target', aggfunc='size')\n",
        "\n",
        "    # Convert counts to percentages\n",
        "    data = data.div(data.sum(axis=1), axis=0).multiply(100).round()\n",
        "    data.reset_index(inplace=True)\n",
        "\n",
        "    # Plotting the bars\n",
        "    plt.bar(data[col], data[1], color='greenyellow',label='Churned')\n",
        "    plt.bar(data[col], data[0], color='dimgrey', bottom=data[1],label='Not Churned')\n",
        "\n",
        "    # Labeling and titles\n",
        "    plt.xlabel(f'{col}')\n",
        "    plt.ylabel('% Drivers')\n",
        "    plt.title(f'% Churn by {col}')\n",
        "    plt.legend(['Churned', 'Not Churned'])\n",
        "\n",
        "    i += 1\n",
        "\n",
        "# Adjust layout and display the plot\n",
        "plt.tight_layout()\n",
        "plt.show()"
      ],
      "metadata": {
        "id": "J1LDL6h4OIbu"
      },
      "execution_count": null,
      "outputs": []
    },
    {
      "cell_type": "code",
      "source": [
        "city = df2.pivot_table(index='City', columns='Target', aggfunc='size')\n",
        "city = city.div(city.sum(axis=1), axis=0).multiply(100).round()\n",
        "city.reset_index(inplace=True)\n",
        "city = city.sort_values(by=1, ascending=False)\n",
        "\n",
        "plt.figure(figsize=(14,4))\n",
        "plt.bar(city['City'], city[1], color='greenyellow')\n",
        "plt.bar(city['City'], city[0], color='dimgrey', bottom=city[1])\n",
        "\n",
        "# Labeling and titles\n",
        "plt.xlabel('City')\n",
        "plt.ylabel('% Drivers')\n",
        "plt.title(f'% Churn by City')\n",
        "plt.legend(['Churned', 'Not Churned'])\n",
        "plt.xticks(rotation=90)\n",
        "plt.show()"
      ],
      "metadata": {
        "id": "IJVTLmQ3OzWQ"
      },
      "execution_count": null,
      "outputs": []
    },
    {
      "cell_type": "markdown",
      "source": [
        "Key notes:\n",
        "\n",
        "Key Insights on Driver Churn:\n",
        "\n",
        "* Gender and education level don’t seem to have any impact on churn.\n",
        "* Grade 1 drivers had the highest churn rate at 80%, followed by Grade 2 at around 70%.\n",
        "* The highest churn was seen among drivers who started with Designation 1 and 5, with nearly 75% leaving.\n",
        "* Quarterly Rating appears to influence churn: 80% of those with a QR1 rating left, followed by 40% of QR2 and about 18% of QR3.\n",
        "* Around 77% of drivers who didn’t see any improvement in their rating ended up leaving.\n",
        "* Income growth also played a role—70% of those who didn’t get a raise decided to quit.\n",
        "* Location mattered too—80% of drivers from City C13 left, with C17 and C23 not far behind.\n",
        "\n"
      ],
      "metadata": {
        "id": "DyYkNUrtObwA"
      }
    },
    {
      "cell_type": "markdown",
      "source": [
        "# Correlation"
      ],
      "metadata": {
        "id": "vmCh-Do3SNZU"
      }
    },
    {
      "cell_type": "code",
      "source": [
        "numerical_df2 = df2.select_dtypes(include=['int64', 'float64'])"
      ],
      "metadata": {
        "id": "PNVukNZWOdFJ"
      },
      "execution_count": null,
      "outputs": []
    },
    {
      "cell_type": "code",
      "source": [
        "plt.figure(figsize=(8,6))\n",
        "sns.heatmap(numerical_df2.corr(), annot=True, fmt=\".1f\",cmap='Blues')\n",
        "plt.title('Correlation between Features')\n",
        "plt.show()"
      ],
      "metadata": {
        "id": "0jpoaBdJSYgH"
      },
      "execution_count": null,
      "outputs": []
    },
    {
      "cell_type": "markdown",
      "source": [
        "### **Key Takeaways:**  \n",
        "\n",
        "- **Reportings** show a strong positive correlation with **Total Business Value**.  \n",
        "- **Quarterly Rating** and **Rating Increase** are closely related, which makes sense.  \n",
        "- **Grade** has a strong positive correlation with **Income** and **Joining Designations**.  \n",
        "- Based on these insights, we could consider dropping some features. However, **multicollinearity** isn’t just about individual feature pairs—it can result from multiple variables interacting together.  \n",
        "- Simply using a correlation threshold to remove features might be misleading, as it doesn’t always capture the full impact on the model.  \n",
        "- A better approach would be to finalize feature selection using **Feature Importance** analysis.  \n",
        "\n"
      ],
      "metadata": {
        "id": "MlTAxmFQTCuQ"
      }
    },
    {
      "cell_type": "markdown",
      "source": [
        "## Data prep"
      ],
      "metadata": {
        "id": "YFeJU3-5TZWT"
      }
    },
    {
      "cell_type": "code",
      "source": [
        "df_prep=df2.drop(columns=['Driver_ID','LastWorkingDate'],axis=1)"
      ],
      "metadata": {
        "id": "0ox--3AnTD2Z"
      },
      "execution_count": null,
      "outputs": []
    },
    {
      "cell_type": "code",
      "source": [
        "df_prep['Month']=df_prep['Dateofjoining'].dt.month\n",
        "df_prep['Year']=df_prep['Dateofjoining'].dt.year"
      ],
      "metadata": {
        "id": "zrwJWajzTgUz"
      },
      "execution_count": null,
      "outputs": []
    },
    {
      "cell_type": "code",
      "source": [
        "df_prep.drop('Dateofjoining',axis=1,inplace=True)"
      ],
      "metadata": {
        "id": "i6iV3NIMTlv7"
      },
      "execution_count": null,
      "outputs": []
    },
    {
      "cell_type": "code",
      "source": [
        "df_encoded = pd.get_dummies(df_prep,'City', drop_first=True)*1"
      ],
      "metadata": {
        "id": "Frw27_T7To5R"
      },
      "execution_count": null,
      "outputs": []
    },
    {
      "cell_type": "code",
      "source": [
        "df_encoded.head()"
      ],
      "metadata": {
        "id": "ocTGiLNhTqXD"
      },
      "execution_count": null,
      "outputs": []
    },
    {
      "cell_type": "code",
      "source": [
        "from sklearn.model_selection import train_test_split"
      ],
      "metadata": {
        "id": "jUpab5vrTsqJ"
      },
      "execution_count": null,
      "outputs": []
    },
    {
      "cell_type": "code",
      "source": [
        "X = df_encoded.drop(['Target'], axis=1)\n",
        "y = df_encoded['Target']"
      ],
      "metadata": {
        "id": "4XV0NxeqTuKF"
      },
      "execution_count": null,
      "outputs": []
    },
    {
      "cell_type": "code",
      "source": [
        "X_train, X_test, y_train, y_test = train_test_split(X, y, test_size=0.2, random_state=42)"
      ],
      "metadata": {
        "id": "DsPPYrcTTwCa"
      },
      "execution_count": null,
      "outputs": []
    },
    {
      "cell_type": "code",
      "source": [
        "from sklearn.preprocessing import MinMaxScaler"
      ],
      "metadata": {
        "id": "Gn9XGPapTx4A"
      },
      "execution_count": null,
      "outputs": []
    },
    {
      "cell_type": "code",
      "source": [
        "scaler = MinMaxScaler()\n",
        "X_train_scaled = scaler.fit_transform(X_train)\n",
        "X_test_scaled = scaler.transform(X_test)\n",
        "X_train_scaled = pd.DataFrame(X_train_scaled, columns=X.columns)\n",
        "X_test_scaled = pd.DataFrame(X_test_scaled, columns=X.columns)"
      ],
      "metadata": {
        "id": "7HAoqWAMTzxF"
      },
      "execution_count": null,
      "outputs": []
    },
    {
      "cell_type": "code",
      "source": [
        "class_counts = y_train.value_counts()\n",
        "\n",
        "\n",
        "plt.figure(figsize=(6, 4))\n",
        "class_counts.plot(kind='bar', color=['greenyellow', 'dimgrey'])\n",
        "plt.xlabel('Class Label')\n",
        "plt.ylabel('Number of Samples')\n",
        "plt.title('Class Distribution')\n",
        "plt.xticks(rotation=0)\n",
        "plt.show()"
      ],
      "metadata": {
        "id": "KckvESrZUDov"
      },
      "execution_count": null,
      "outputs": []
    },
    {
      "cell_type": "code",
      "source": [
        "from imblearn.over_sampling import SMOTE"
      ],
      "metadata": {
        "id": "jWU4AMRlUx3l"
      },
      "execution_count": null,
      "outputs": []
    },
    {
      "cell_type": "code",
      "source": [
        "smote = SMOTE(random_state=42)\n",
        "X_train_res, y_train_res = smote.fit_resample(X_train_scaled, y_train)"
      ],
      "metadata": {
        "id": "oPIUhjj6U0dc"
      },
      "execution_count": null,
      "outputs": []
    },
    {
      "cell_type": "code",
      "source": [
        "class_counts = y_train_res.value_counts()\n",
        "\n",
        "\n",
        "plt.figure(figsize=(6, 4))\n",
        "class_counts.plot(kind='bar', color=['greenyellow', 'dimgrey'])\n",
        "plt.xlabel('Class Label')\n",
        "plt.ylabel('Number of Samples')\n",
        "plt.title('Class Distribution')\n",
        "plt.xticks(rotation=0)\n",
        "plt.show()"
      ],
      "metadata": {
        "id": "yXRiBZ13U2_V"
      },
      "execution_count": null,
      "outputs": []
    },
    {
      "cell_type": "markdown",
      "source": [
        "# Bagging(Random Forest Classifier)"
      ],
      "metadata": {
        "id": "4465yRdMV8-k"
      }
    },
    {
      "cell_type": "code",
      "source": [
        "from sklearn.ensemble import RandomForestClassifier\n",
        "from sklearn.model_selection import GridSearchCV\n",
        "import time"
      ],
      "metadata": {
        "id": "gBN8EC_fV1DJ"
      },
      "execution_count": null,
      "outputs": []
    },
    {
      "cell_type": "code",
      "source": [
        "params = {\"max_depth\":[7,10,15],\n",
        "             \"n_estimators\":[100,200,300,400],\n",
        "             \"max_features\":[4,7,10],\n",
        "             \"ccp_alpha\":[0.0005,0.00075,0.001]}"
      ],
      "metadata": {
        "id": "yIs5U1vEWGkZ"
      },
      "execution_count": null,
      "outputs": []
    },
    {
      "cell_type": "code",
      "source": [
        "grid_search = GridSearchCV(estimator=RandomForestClassifier(random_state=42), param_grid=params, cv=5, n_jobs=-1, verbose=2)\n",
        "\n",
        "# Measure the time taken to fit the model\n",
        "start_time = time.time()\n",
        "grid_search.fit(X_train_res, y_train_res)\n",
        "end_time = time.time()\n",
        "\n",
        "print(\"Best parameters found by GridSearchCV:\", grid_search.best_params_)\n",
        "print(f\"Total training time: {end_time - start_time:.2f} seconds\")"
      ],
      "metadata": {
        "id": "lNckUYpFWIIC"
      },
      "execution_count": null,
      "outputs": []
    },
    {
      "cell_type": "code",
      "source": [
        "from sklearn.metrics import accuracy_score, confusion_matrix, classification_report, ConfusionMatrixDisplay\n"
      ],
      "metadata": {
        "id": "kG1ZA6PqWKEU"
      },
      "execution_count": null,
      "outputs": []
    },
    {
      "cell_type": "code",
      "source": [
        "\n",
        "# Retrieve the best model (estimator)\n",
        "best_model = grid_search.best_estimator_\n",
        "\n",
        "# Make predictions on the test set\n",
        "y_train_pred = best_model.predict(X_train_res)\n",
        "y_test_pred = best_model.predict(X_test_scaled)\n",
        "\n",
        "# Evaluate the model\n",
        "# Accuracy\n",
        "train_accuracy = accuracy_score(y_train_res, y_train_pred)\n",
        "print(f\"Training Accuracy: {train_accuracy:.2f}\")\n",
        "\n",
        "test_accuracy = accuracy_score(y_test, y_test_pred)\n",
        "print(f\"Test Accuracy: {test_accuracy:.2f}\")\n"
      ],
      "metadata": {
        "id": "3_4ysCH7WMAl"
      },
      "execution_count": null,
      "outputs": []
    },
    {
      "cell_type": "code",
      "source": [
        "grid_search.best_score_\n"
      ],
      "metadata": {
        "id": "liCV9XwSWQNC"
      },
      "execution_count": null,
      "outputs": []
    },
    {
      "cell_type": "markdown",
      "source": [
        "### **Observations:**  \n",
        "\n",
        "- **Training Accuracy: 0.98** – The Random Forest model achieved **98% accuracy** on the training data, indicating that it fits the training set very well.  \n",
        "\n",
        "- **Test Accuracy: 0.89** – When tested on unseen data, the model reached **89% accuracy**, showing that it generalizes well. The slight drop from training accuracy is normal and expected.  \n",
        "\n",
        "- **Best Model Score: 0.915** – This represents the highest score obtained during cross-validation, likely using **GridSearchCV** for hyperparameter tuning. A score of **0.915** suggests that the model performed well across different validation sets.  \n",
        "\n",
        "Overall, the model demonstrates **strong performance**, balancing accuracy on both training and test datasets.  \n"
      ],
      "metadata": {
        "id": "fpC6BpLwWey6"
      }
    }
  ]
}